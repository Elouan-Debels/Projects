{
 "cells": [
  {
   "cell_type": "code",
   "execution_count": 1,
   "id": "37936c64-cbe4-41d7-bc5e-058627160a3d",
   "metadata": {},
   "outputs": [
    {
     "name": "stdout",
     "output_type": "stream",
     "text": [
      "Number of instances with missing sentiment: 7783\n"
     ]
    }
   ],
   "source": [
    "import json\n",
    "# Read the JSON file\n",
    "with open('D:/assignment 2 data/code/dataset.json', 'r') as file:\n",
    "    data = json.load(file)\n",
    "\n",
    "# Count instances with missing sentiment\n",
    "missing_sentiment_count = sum(1 for entry in data if \"sentiment\" not in entry or entry[\"sentiment\"] is None)\n",
    "\n",
    "print(f\"Number of instances with missing sentiment: {missing_sentiment_count}\")\n",
    "#around half of the intances have missing values for sentiment. We simply will remove these, as described in the assignment."
   ]
  },
  {
   "cell_type": "code",
   "execution_count": 5,
   "id": "8db4abf5-f2e8-4291-8faf-5d791962947e",
   "metadata": {},
   "outputs": [
    {
     "name": "stdout",
     "output_type": "stream",
     "text": [
      "The length of the 'screenshots' list is not the same for all entries.\n"
     ]
    }
   ],
   "source": [
    "#check if the number of screenshots is the same for each game\n",
    "\n",
    "#get the length of the \"screenshots\" list for the first entry\n",
    "expected_length = len(data[0]['screenshots'])\n",
    "\n",
    "# Check the length of the \"screenshots\" list for all entries\n",
    "for entry in data:\n",
    "    if len(entry['screenshots']) != expected_length:\n",
    "        print(\"The length of the 'screenshots' list is not the same for all entries.\")\n",
    "        break\n",
    "else:\n",
    "    print(\"The length of the 'screenshots' list is the same for all entries.\")\n"
   ]
  },
  {
   "cell_type": "code",
   "execution_count": 6,
   "id": "6eaa670b-8ab3-41a9-90e3-47091d8d5188",
   "metadata": {},
   "outputs": [
    {
     "name": "stdout",
     "output_type": "stream",
     "text": [
      "Different lengths of 'screenshots' lists are found:\n",
      "- Length: 1\n",
      "- Length: 2\n",
      "- Length: 3\n",
      "- Length: 4\n",
      "- Length: 5\n",
      "- Length: 6\n",
      "- Length: 7\n",
      "- Length: 8\n",
      "- Length: 9\n",
      "- Length: 10\n",
      "- Length: 11\n",
      "- Length: 12\n",
      "- Length: 13\n",
      "- Length: 14\n",
      "- Length: 15\n",
      "- Length: 16\n",
      "- Length: 17\n",
      "- Length: 18\n",
      "- Length: 19\n",
      "- Length: 20\n",
      "- Length: 21\n",
      "- Length: 22\n",
      "- Length: 23\n",
      "- Length: 24\n",
      "- Length: 25\n",
      "- Length: 26\n",
      "- Length: 27\n",
      "- Length: 28\n",
      "- Length: 29\n",
      "- Length: 30\n",
      "- Length: 31\n",
      "- Length: 32\n",
      "- Length: 33\n",
      "- Length: 34\n",
      "- Length: 35\n",
      "- Length: 36\n",
      "- Length: 37\n",
      "- Length: 38\n",
      "- Length: 39\n",
      "- Length: 40\n",
      "- Length: 41\n",
      "- Length: 42\n",
      "- Length: 43\n",
      "- Length: 44\n",
      "- Length: 45\n",
      "- Length: 46\n",
      "- Length: 48\n",
      "- Length: 49\n",
      "- Length: 50\n",
      "- Length: 51\n",
      "- Length: 52\n",
      "- Length: 53\n",
      "- Length: 54\n",
      "- Length: 55\n",
      "- Length: 57\n",
      "- Length: 58\n",
      "- Length: 59\n",
      "- Length: 61\n",
      "- Length: 70\n",
      "- Length: 74\n",
      "- Length: 81\n",
      "- Length: 85\n"
     ]
    }
   ],
   "source": [
    "# Collect unique lengths of the \"screenshots\" lists\n",
    "unique_lengths = set(len(entry['screenshots']) for entry in data)\n",
    "\n",
    "# Display all possible lengths\n",
    "if len(unique_lengths) == 1:\n",
    "    print(\"All entries have the same length for 'screenshots' list:\", unique_lengths.pop())\n",
    "else:\n",
    "    print(\"Different lengths of 'screenshots' lists are found:\")\n",
    "    for length in unique_lengths:\n",
    "        print(\"- Length:\", length)"
   ]
  },
  {
   "cell_type": "code",
   "execution_count": 7,
   "id": "0a510c92-e5d5-434f-9b36-86ee2c952dd4",
   "metadata": {},
   "outputs": [
    {
     "name": "stdout",
     "output_type": "stream",
     "text": [
      "Unique values for 'sentiment' key:\n",
      "-  Mostly Negative\n",
      "-  Very Negative\n",
      "-  Negative\n",
      "-  Overwhelmingly Negative\n",
      "-  Positive\n",
      "-  Mostly Positive\n",
      "-  Mixed\n",
      "-  Very Positive\n",
      "-  Overwhelmingly Positive\n"
     ]
    }
   ],
   "source": [
    "#check which values are present for the \"sentiment\" variable\n",
    "\n",
    "# Extract unique values for the \"sentiment\" key\n",
    "sentiments = set(entry['sentiment'] for entry in data if entry.get('sentiment') is not None)\n",
    "\n",
    "# Display unique values for \"sentiment\"\n",
    "print(\"Unique values for 'sentiment' key:\")\n",
    "for sentiment in sentiments:\n",
    "    print(\"- \", sentiment)\n"
   ]
  },
  {
   "cell_type": "code",
   "execution_count": 41,
   "id": "1c5278a7-19f1-43b9-a569-b9b8c83bd744",
   "metadata": {},
   "outputs": [
    {
     "name": "stdout",
     "output_type": "stream",
     "text": [
      "Corrupted image: D:/assignment 2 data/images/2445340_ss_fdbf4004c0087b96c3a8ebb1152179b3563d7091.1920x1080.jpg. Error: cannot identify image file 'D:\\\\assignment 2 data\\\\images\\\\2445340_ss_fdbf4004c0087b96c3a8ebb1152179b3563d7091.1920x1080.jpg'\n",
      "Corrupted image: D:/assignment 2 data/images/1029210_ss_7096afc94036153001b266a75253fb6abdd03c54.1920x1080.jpg. Error: cannot identify image file 'D:\\\\assignment 2 data\\\\images\\\\1029210_ss_7096afc94036153001b266a75253fb6abdd03c54.1920x1080.jpg'\n",
      "Corrupted image: D:/assignment 2 data/images/1029210_ss_ddf975e414f08a0bb419818d2cd94be4ebff6db9.1920x1080.jpg. Error: cannot identify image file 'D:\\\\assignment 2 data\\\\images\\\\1029210_ss_ddf975e414f08a0bb419818d2cd94be4ebff6db9.1920x1080.jpg'\n"
     ]
    },
    {
     "name": "stderr",
     "output_type": "stream",
     "text": [
      "IOPub data rate exceeded.\n",
      "The Jupyter server will temporarily stop sending output\n",
      "to the client in order to avoid crashing it.\n",
      "To change this limit, set the config variable\n",
      "`--ServerApp.iopub_data_rate_limit`.\n",
      "\n",
      "Current values:\n",
      "ServerApp.iopub_data_rate_limit=1000000.0 (bytes/sec)\n",
      "ServerApp.rate_limit_window=3.0 (secs)\n",
      "\n"
     ]
    },
    {
     "data": {
      "text/plain": [
       "'\\n# Nieuwe structuur\\n# Load and preprocess valid images\\nimages = []\\n\\n# Iterate through each sublist in valid_image_paths\\nfor valid_sublist in valid_image_paths:\\n    processed_images_sublist = []\\n    for image_path in valid_sublist:\\n        with Image.open(\\'D:/assignment 2 data/images/\\' + image_path) as image:\\n            # Preprocess image (resize, normalize, etc.)\\n            # image = preprocess_image(image) # Uncomment and define this function as needed\\n            processed_images_sublist.append(image.copy())  # Use copy() to avoid issues with image file closing\\n    # Append the processed images sublist to the images list\\n    images.append(processed_images_sublist)\\n\\n# Print or use the resulting list of processed images\\n#print(\"Processed images:\", images)\\n'"
      ]
     },
     "execution_count": 41,
     "metadata": {},
     "output_type": "execute_result"
    }
   ],
   "source": [
    "#we will check for corrupt images. I noticed that some images got corrupted.\n",
    "from PIL import Image\n",
    "import numpy as np\n",
    "from keras.utils import to_categorical\n",
    "import os\n",
    "\n",
    "# Extract data\n",
    "sentiments = []\n",
    "image_paths = []\n",
    "for entry in data:\n",
    "    image_paths.append(entry['screenshots'])#need to add this separately, I need it structured as a list of lists\n",
    "    sentiments.append(entry['sentiment'])\n",
    "    \n",
    "\n",
    "valid_image_paths = []\n",
    "corrupted_images = []\n",
    "\n",
    "# Iterate through the list of lists\n",
    "for sublist in image_paths:\n",
    "    valid_sublist = []\n",
    "    for image_path in sublist:\n",
    "        image_file = 'D:/assignment 2 data/images/' + image_path\n",
    "        try:\n",
    "            Image.open(image_file).close()  # Open and immediately close the image file, otherwise too many images get opened and it fails\n",
    "            valid_sublist.append(image_path)\n",
    "        except (OSError, Exception) as e:\n",
    "            corrupted_images.append(image_path)\n",
    "            print(f\"Corrupted image: {image_file}. Error: {e}\")\n",
    "    # Append the valid sublist to the valid_image_paths list\n",
    "    valid_image_paths.append(valid_sublist)\n",
    "\n",
    "# Print the resulting lists\n",
    "print(\"Corrupted images:\", corrupted_images)"
   ]
  },
  {
   "cell_type": "code",
   "execution_count": null,
   "id": "25ca21e2-4659-45a7-be41-68694d16dd65",
   "metadata": {},
   "outputs": [],
   "source": []
  }
 ],
 "metadata": {
  "kernelspec": {
   "display_name": "Python 3 (ipykernel)",
   "language": "python",
   "name": "python3"
  },
  "language_info": {
   "codemirror_mode": {
    "name": "ipython",
    "version": 3
   },
   "file_extension": ".py",
   "mimetype": "text/x-python",
   "name": "python",
   "nbconvert_exporter": "python",
   "pygments_lexer": "ipython3",
   "version": "3.12.2"
  }
 },
 "nbformat": 4,
 "nbformat_minor": 5
}
